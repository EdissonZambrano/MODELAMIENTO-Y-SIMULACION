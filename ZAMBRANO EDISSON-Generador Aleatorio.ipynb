{
 "cells": [
  {
   "cell_type": "markdown",
   "id": "cb4b987f",
   "metadata": {},
   "source": [
    "# <center> MODELAMIENTO Y SIMULACIÓN</center>                                    \n",
    "### <center> TEST DE NUMEROS ALEATORIOS</center>  \n",
    "<center> [Sexto “B”]</center> \n",
    "<center> Desarrollado por:</center>\n",
    "<center> ZAMBRANO SABANDO EDISSON JORDY</center>\n",
    "<center> [28/05/2022]</center>"
   ]
  },
  {
   "cell_type": "markdown",
   "id": "899cfc37",
   "metadata": {},
   "source": [
    "<h1>IMPORTAMOS LIBRERIAS</h1>"
   ]
  },
  {
   "cell_type": "code",
   "execution_count": null,
   "id": "70f32919",
   "metadata": {},
   "outputs": [],
   "source": [
    "\n",
    "import pandas as pd\n",
    "import numpy as np\n",
    "import matplotlib.pyplot as plt\n",
    "import math\n",
    "import random\n",
    "from scipy.stats import chi2"
   ]
  },
  {
   "cell_type": "markdown",
   "id": "a3aa80f0",
   "metadata": {},
   "source": [
    "<h2>Generador Congruecial</h2>"
   ]
  },
  {
   "cell_type": "code",
   "execution_count": 13,
   "id": "fc1f4abc",
   "metadata": {},
   "outputs": [
    {
     "name": "stdout",
     "output_type": "stream",
     "text": [
      " Generador Congruencial\n"
     ]
    },
    {
     "data": {
      "text/html": [
       "<div>\n",
       "<style scoped>\n",
       "    .dataframe tbody tr th:only-of-type {\n",
       "        vertical-align: middle;\n",
       "    }\n",
       "\n",
       "    .dataframe tbody tr th {\n",
       "        vertical-align: top;\n",
       "    }\n",
       "\n",
       "    .dataframe thead th {\n",
       "        text-align: right;\n",
       "    }\n",
       "</style>\n",
       "<table border=\"1\" class=\"dataframe\">\n",
       "  <thead>\n",
       "    <tr style=\"text-align: right;\">\n",
       "      <th></th>\n",
       "      <th>Xn</th>\n",
       "      <th>ri</th>\n",
       "    </tr>\n",
       "  </thead>\n",
       "  <tbody>\n",
       "    <tr>\n",
       "      <th>0</th>\n",
       "      <td>1600</td>\n",
       "      <td>0.052793</td>\n",
       "    </tr>\n",
       "    <tr>\n",
       "      <th>1</th>\n",
       "      <td>3386</td>\n",
       "      <td>0.111723</td>\n",
       "    </tr>\n",
       "    <tr>\n",
       "      <th>2</th>\n",
       "      <td>14212</td>\n",
       "      <td>0.468935</td>\n",
       "    </tr>\n",
       "    <tr>\n",
       "      <th>3</th>\n",
       "      <td>22954</td>\n",
       "      <td>0.757383</td>\n",
       "    </tr>\n",
       "    <tr>\n",
       "      <th>4</th>\n",
       "      <td>8950</td>\n",
       "      <td>0.295311</td>\n",
       "    </tr>\n",
       "  </tbody>\n",
       "</table>\n",
       "</div>"
      ],
      "text/plain": [
       "      Xn        ri\n",
       "0   1600  0.052793\n",
       "1   3386  0.111723\n",
       "2  14212  0.468935\n",
       "3  22954  0.757383\n",
       "4   8950  0.295311"
      ]
     },
     "execution_count": 13,
     "metadata": {},
     "output_type": "execute_result"
    }
   ],
   "source": [
    "import pandas as pd\n",
    "import numpy as np\n",
    "# generador excel-07\n",
    "# - Xn+1 = (40Xn ) (mod 30323)\n",
    "n, m, a, x0 = 10, 30307, 40, 40\n",
    "x = [1] * n\n",
    "r = [0.1] * n\n",
    "print (\" Generador Congruencial\")\n",
    "for i in range(0, n):\n",
    "    x[i] = (a*x0) % m\n",
    "    x0 = x[i]\n",
    "    r[i] = x0 / m\n",
    "    d = {'Xn': x, 'ri': r }\n",
    "df1 = pd.DataFrame(data=d)\n",
    "df1.head()\n"
   ]
  },
  {
   "cell_type": "code",
   "execution_count": 20,
   "id": "ce2d136a",
   "metadata": {},
   "outputs": [
    {
     "data": {
      "text/html": [
       "<div>\n",
       "<style scoped>\n",
       "    .dataframe tbody tr th:only-of-type {\n",
       "        vertical-align: middle;\n",
       "    }\n",
       "\n",
       "    .dataframe tbody tr th {\n",
       "        vertical-align: top;\n",
       "    }\n",
       "\n",
       "    .dataframe thead th {\n",
       "        text-align: right;\n",
       "    }\n",
       "</style>\n",
       "<table border=\"1\" class=\"dataframe\">\n",
       "  <thead>\n",
       "    <tr style=\"text-align: right;\">\n",
       "      <th></th>\n",
       "      <th>Xn</th>\n",
       "      <th>ri</th>\n",
       "    </tr>\n",
       "  </thead>\n",
       "  <tbody>\n",
       "    <tr>\n",
       "      <th>5</th>\n",
       "      <td>20096</td>\n",
       "      <td>0.663081</td>\n",
       "    </tr>\n",
       "    <tr>\n",
       "      <th>6</th>\n",
       "      <td>21936</td>\n",
       "      <td>0.723793</td>\n",
       "    </tr>\n",
       "    <tr>\n",
       "      <th>7</th>\n",
       "      <td>1359</td>\n",
       "      <td>0.044841</td>\n",
       "    </tr>\n",
       "    <tr>\n",
       "      <th>8</th>\n",
       "      <td>18881</td>\n",
       "      <td>0.622991</td>\n",
       "    </tr>\n",
       "    <tr>\n",
       "      <th>9</th>\n",
       "      <td>27535</td>\n",
       "      <td>0.908536</td>\n",
       "    </tr>\n",
       "  </tbody>\n",
       "</table>\n",
       "</div>"
      ],
      "text/plain": [
       "      Xn        ri\n",
       "5  20096  0.663081\n",
       "6  21936  0.723793\n",
       "7   1359  0.044841\n",
       "8  18881  0.622991\n",
       "9  27535  0.908536"
      ]
     },
     "execution_count": 20,
     "metadata": {},
     "output_type": "execute_result"
    }
   ],
   "source": [
    "df1.tail()"
   ]
  },
  {
   "cell_type": "code",
   "execution_count": 15,
   "id": "41aa8391",
   "metadata": {},
   "outputs": [
    {
     "data": {
      "text/plain": [
       "array([[0.052793, 0.111723, 0.468935, 0.757383, 0.295311],\n",
       "       [0.663081, 0.723793, 0.044841, 0.622991, 0.908536]])"
      ]
     },
     "execution_count": 15,
     "metadata": {},
     "output_type": "execute_result"
    }
   ],
   "source": [
    "# Ingreso de datos matriz \n",
    "matriz= np.array([[0.052793, 0.111723, 0.468935, 0.757383, 0.295311 ],\n",
    "            [0.663081,0.723793, 0.044841, 0.622991,0.908536 ] ])\n",
    "matriz"
   ]
  },
  {
   "cell_type": "code",
   "execution_count": 16,
   "id": "eac8f8b2",
   "metadata": {},
   "outputs": [
    {
     "data": {
      "text/plain": [
       "array([[0.052793, 0.111723, 0.295311, 0.468935, 0.757383],\n",
       "       [0.044841, 0.622991, 0.663081, 0.723793, 0.908536]])"
      ]
     },
     "execution_count": 16,
     "metadata": {},
     "output_type": "execute_result"
    }
   ],
   "source": [
    "# Ordenar matriz\n",
    "np.sort(matriz, axis=1)"
   ]
  },
  {
   "cell_type": "code",
   "execution_count": 17,
   "id": "44a7dcd8",
   "metadata": {},
   "outputs": [],
   "source": [
    "# Asignación de filas de la matriz\n",
    "m1=matriz[0]\n",
    "m2=matriz[1]\n",
    "gradoLibertad=5"
   ]
  },
  {
   "cell_type": "code",
   "execution_count": 18,
   "id": "0da4bf18",
   "metadata": {},
   "outputs": [],
   "source": [
    "# Establecemos el intervalo \n",
    "#x=4\n",
    "#intervalo=1/x\n",
    "bins=[0.00, 0.25, 0.50, 0.75, 0.99]"
   ]
  },
  {
   "cell_type": "code",
   "execution_count": 28,
   "id": "6c8d6e2d",
   "metadata": {},
   "outputs": [
    {
     "data": {
      "text/html": [
       "<div>\n",
       "<style scoped>\n",
       "    .dataframe tbody tr th:only-of-type {\n",
       "        vertical-align: middle;\n",
       "    }\n",
       "\n",
       "    .dataframe tbody tr th {\n",
       "        vertical-align: top;\n",
       "    }\n",
       "\n",
       "    .dataframe thead th {\n",
       "        text-align: right;\n",
       "    }\n",
       "</style>\n",
       "<table border=\"1\" class=\"dataframe\">\n",
       "  <thead>\n",
       "    <tr style=\"text-align: right;\">\n",
       "      <th></th>\n",
       "      <th>Intervalos</th>\n",
       "      <th>m1</th>\n",
       "      <th>m2</th>\n",
       "      <th>m3</th>\n",
       "    </tr>\n",
       "  </thead>\n",
       "  <tbody>\n",
       "    <tr>\n",
       "      <th>0</th>\n",
       "      <td>0.0 - 0.25</td>\n",
       "      <td>1.0</td>\n",
       "      <td>1.0</td>\n",
       "      <td>1.0</td>\n",
       "    </tr>\n",
       "    <tr>\n",
       "      <th>1</th>\n",
       "      <td>0.25 - 0.5</td>\n",
       "      <td>2.0</td>\n",
       "      <td>0.0</td>\n",
       "      <td>3.0</td>\n",
       "    </tr>\n",
       "    <tr>\n",
       "      <th>2</th>\n",
       "      <td>0.5 - 0.75</td>\n",
       "      <td>0.0</td>\n",
       "      <td>3.0</td>\n",
       "      <td>1.0</td>\n",
       "    </tr>\n",
       "    <tr>\n",
       "      <th>3</th>\n",
       "      <td>0.75 - 0.99</td>\n",
       "      <td>2.0</td>\n",
       "      <td>1.0</td>\n",
       "      <td>0.0</td>\n",
       "    </tr>\n",
       "    <tr>\n",
       "      <th>4</th>\n",
       "      <td>(X)²</td>\n",
       "      <td>2.2</td>\n",
       "      <td>3.8</td>\n",
       "      <td>3.8</td>\n",
       "    </tr>\n",
       "  </tbody>\n",
       "</table>\n",
       "</div>"
      ],
      "text/plain": [
       "    Intervalos   m1   m2   m3\n",
       "0   0.0 - 0.25  1.0  1.0  1.0\n",
       "1   0.25 - 0.5  2.0  0.0  3.0\n",
       "2   0.5 - 0.75  0.0  3.0  1.0\n",
       "3  0.75 - 0.99  2.0  1.0  0.0\n",
       "4         (X)²  2.2  3.8  3.8"
      ]
     },
     "execution_count": 28,
     "metadata": {},
     "output_type": "execute_result"
    }
   ],
   "source": [
    "counts, bin_edges=np.histogram(m1, bins)\n",
    "M1=[]\n",
    "interval=[]\n",
    "# Calculamos Frecuencia de m1\n",
    "for low, hight, count in zip(bin_edges, np.roll(bin_edges, - 1), counts):\n",
    "    M1.append(count)\n",
    "    interval.append(f'{low} - {hight}')\n",
    "# Calculamos chi2 de m1\n",
    "M1x1=(((M1[0]-5/4)**2)+((M1[1]-5/4)**2)+((M1[2]-5/4)**2)+((M1[3]-5/4)**2))*4/5\n",
    "# Guardamos los datos de chi2\n",
    "interval1=M1x1\n",
    "\n",
    "counts, bin_edges=np.histogram(m2, bins)\n",
    "M2=[]\n",
    "# Calculamos Frecuencia de m2\n",
    "for low, hight, count in zip(bin_edges, np.roll(bin_edges, -1), counts):\n",
    "    M2.append(count)\n",
    "# Calculamos chi2 de m2\n",
    "M2x1=(((M2[0]-5/4)**2)+((M2[1]-5/4)**2)+((M2[2]-5/4)**2)+((M2[3]-5/4)**2))*4/5\n",
    "# Guardamos los datos de chi2\n",
    "interval2=M2x1\n",
    "\n",
    "counts, bin_edges=np.histogram(m3, bins)\n",
    "M3=[]\n",
    "# Calculamos Frecuencia de m3\n",
    "for low, hight, count in zip(bin_edges, np.roll(bin_edges, -1), counts):\n",
    "    M3.append(count)   \n",
    "# Calculamos chi2 de m3\n",
    "M3x1=(((M3[0]-5/4)**2)+((M3[1]-5/4)**2)+((M3[2]-5/4)**2)+((M3[3]-5/4)**2))*4/5\n",
    "# Guardamos los datos de chi2\n",
    "interval3=M3x1\n",
    "df=pd.DataFrame({'Intervalos':interval,'m1':M1,'m2':M2, 'm3':M3})\n",
    "df.loc[4]=['(X)²',interval1, interval2, interval3]\n",
    "df"
   ]
  },
  {
   "cell_type": "code",
   "execution_count": 29,
   "id": "f6797885",
   "metadata": {},
   "outputs": [
    {
     "name": "stdout",
     "output_type": "stream",
     "text": [
      "(Xi)²:   (2.2, 3.8, 3.8)\n"
     ]
    }
   ],
   "source": [
    "datos=(interval1, interval2, interval3)\n",
    "#print(datos)\n",
    "\n",
    "##if interval1 > interval2 and interval1 > interval3:\n",
    "#if interval2 < interval1 >interval3:\n",
    "#    print(interval1)\n",
    "#elif interval1 < interval2 > interval3:\n",
    "#    print(interval2)\n",
    "#elif interval1 < interval3 > interval2:\n",
    "#    print(interval3) \n",
    "mayor, medio, menor= interval1, interval2, interval3\n",
    "\n",
    "if interval1 > interval2 and interval1 > interval3:\n",
    "    mayor= interval1\n",
    "    if interval2 > interval3:\n",
    "        medio, menor= interval2, interval3\n",
    "    else:\n",
    "        medio, menor= interval3, interval2\n",
    "elif interval2 > interval1 and interval2 > interval3:\n",
    "    mayor= interval2\n",
    "    if interval1 > interval3:\n",
    "        medio, menor= interval1, interval3\n",
    "    else:\n",
    "        medio, menor= interval3, interval1\n",
    "else:\n",
    "    mayor= interval3\n",
    "    if interval1 > interval2:\n",
    "        medio, menor= interval1, interval2\n",
    "    else:\n",
    "        medio, menor= interval2, interval1\n",
    "#print('(Xf)²: ', menor, '|',medio,'|', mayor)\n",
    "chi_2= menor, medio, mayor\n",
    "print('(Xi)²:  ',chi_2)"
   ]
  },
  {
   "cell_type": "code",
   "execution_count": 30,
   "id": "b51e5db8",
   "metadata": {},
   "outputs": [
    {
     "name": "stdout",
     "output_type": "stream",
     "text": [
      "Grados de libertad: x=4-1=3\n",
      "μ: 3\n"
     ]
    }
   ],
   "source": [
    "print('Grados de libertad:','x=4-1=3',)\n",
    "x=4\n",
    "v_x= x-1\n",
    "print('μ:', v_x)"
   ]
  },
  {
   "cell_type": "code",
   "execution_count": 31,
   "id": "1f79a998",
   "metadata": {},
   "outputs": [
    {
     "name": "stdout",
     "output_type": "stream",
     "text": [
      "Valor del intervalo: 0.4\n"
     ]
    }
   ],
   "source": [
    "v_i= round((mayor - menor) / x,1)\n",
    "print('Valor del intervalo:', v_i,)"
   ]
  },
  {
   "cell_type": "code",
   "execution_count": 32,
   "id": "9a3ea4c4",
   "metadata": {},
   "outputs": [
    {
     "data": {
      "text/html": [
       "<div>\n",
       "<style scoped>\n",
       "    .dataframe tbody tr th:only-of-type {\n",
       "        vertical-align: middle;\n",
       "    }\n",
       "\n",
       "    .dataframe tbody tr th {\n",
       "        vertical-align: top;\n",
       "    }\n",
       "\n",
       "    .dataframe thead th {\n",
       "        text-align: right;\n",
       "    }\n",
       "</style>\n",
       "<table border=\"1\" class=\"dataframe\">\n",
       "  <thead>\n",
       "    <tr style=\"text-align: right;\">\n",
       "      <th></th>\n",
       "      <th>Intervalos</th>\n",
       "      <th>Frecuencia</th>\n",
       "    </tr>\n",
       "  </thead>\n",
       "  <tbody>\n",
       "    <tr>\n",
       "      <th>0</th>\n",
       "      <td>0.6 - 1.4</td>\n",
       "      <td>0</td>\n",
       "    </tr>\n",
       "    <tr>\n",
       "      <th>1</th>\n",
       "      <td>1.4 - 2.2</td>\n",
       "      <td>0</td>\n",
       "    </tr>\n",
       "    <tr>\n",
       "      <th>2</th>\n",
       "      <td>2.2 - 3.0</td>\n",
       "      <td>1</td>\n",
       "    </tr>\n",
       "    <tr>\n",
       "      <th>3</th>\n",
       "      <td>3.0 - 3.8</td>\n",
       "      <td>2</td>\n",
       "    </tr>\n",
       "  </tbody>\n",
       "</table>\n",
       "</div>"
      ],
      "text/plain": [
       "  Intervalos  Frecuencia\n",
       "0  0.6 - 1.4           0\n",
       "1  1.4 - 2.2           0\n",
       "2  2.2 - 3.0           1\n",
       "3  3.0 - 3.8           2"
      ]
     },
     "execution_count": 32,
     "metadata": {},
     "output_type": "execute_result"
    }
   ],
   "source": [
    "bins=[0.6, 1.4, 2.2, 3.0, 3.8]\n",
    "counts, bin_edges=np.histogram(chi_2, bins)\n",
    "Chi_2=[]\n",
    "intervalx=[]\n",
    "# Calculamos Frecuencia de menor\n",
    "for low, hight, count in zip(bin_edges, np.roll(bin_edges, - 1), counts):\n",
    "    Chi_2.append(count)\n",
    "    intervalx.append(f'{low} - {hight}')\n",
    "df=pd.DataFrame({'Intervalos':intervalx,'Frecuencia':Chi_2})\n",
    "df"
   ]
  },
  {
   "cell_type": "code",
   "execution_count": 33,
   "id": "ce08a279",
   "metadata": {},
   "outputs": [
    {
     "name": "stdout",
     "output_type": "stream",
     "text": [
      "(Xf)²:   3.0\n"
     ]
    }
   ],
   "source": [
    "# Calculamos chi cuadrado de chi_2\n",
    "Chi_2x1=(((Chi_2[0]-5/4)**2)+((Chi_2[1]-5/4)**2)+((Chi_2[2]-5/4)**2)+((Chi_2[3]-5/4)**2))*4/5\n",
    "# Guardamos los datos de chi2\n",
    "intervalx=Chi_2x1\n",
    "#df=pd.DataFrame({'Intervalos':intervalx,'Frecuencia':Chi_2})\n",
    "#df.loc[4]=['(X)²',intervalx]\n",
    "#df\n",
    "print('(Xf)²:  ', intervalx)"
   ]
  },
  {
   "cell_type": "code",
   "execution_count": 34,
   "id": "90080f49",
   "metadata": {},
   "outputs": [
    {
     "name": "stdout",
     "output_type": "stream",
     "text": [
      "Grados de Confianza:\n"
     ]
    },
    {
     "data": {
      "text/html": [
       "<div>\n",
       "<style scoped>\n",
       "    .dataframe tbody tr th:only-of-type {\n",
       "        vertical-align: middle;\n",
       "    }\n",
       "\n",
       "    .dataframe tbody tr th {\n",
       "        vertical-align: top;\n",
       "    }\n",
       "\n",
       "    .dataframe thead th {\n",
       "        text-align: right;\n",
       "    }\n",
       "</style>\n",
       "<table border=\"1\" class=\"dataframe\">\n",
       "  <thead>\n",
       "    <tr style=\"text-align: right;\">\n",
       "      <th></th>\n",
       "      <th>GL</th>\n",
       "      <th>0.5</th>\n",
       "      <th>0.6</th>\n",
       "      <th>0.7</th>\n",
       "      <th>0.8</th>\n",
       "    </tr>\n",
       "  </thead>\n",
       "  <tbody>\n",
       "    <tr>\n",
       "      <th>0</th>\n",
       "      <td>1</td>\n",
       "      <td>0.45</td>\n",
       "      <td>0.708</td>\n",
       "      <td>1.07</td>\n",
       "      <td>1.64</td>\n",
       "    </tr>\n",
       "    <tr>\n",
       "      <th>1</th>\n",
       "      <td>2</td>\n",
       "      <td>1.34</td>\n",
       "      <td>1.830</td>\n",
       "      <td>2.41</td>\n",
       "      <td>3.22</td>\n",
       "    </tr>\n",
       "    <tr>\n",
       "      <th>2</th>\n",
       "      <td>3</td>\n",
       "      <td>2.37</td>\n",
       "      <td>2.950</td>\n",
       "      <td>3.67</td>\n",
       "      <td>4.64</td>\n",
       "    </tr>\n",
       "    <tr>\n",
       "      <th>3</th>\n",
       "      <td>4</td>\n",
       "      <td>3.36</td>\n",
       "      <td>4.040</td>\n",
       "      <td>4.88</td>\n",
       "      <td>5.99</td>\n",
       "    </tr>\n",
       "    <tr>\n",
       "      <th>4</th>\n",
       "      <td>5</td>\n",
       "      <td>4.35</td>\n",
       "      <td>5.130</td>\n",
       "      <td>6.06</td>\n",
       "      <td>7.29</td>\n",
       "    </tr>\n",
       "  </tbody>\n",
       "</table>\n",
       "</div>"
      ],
      "text/plain": [
       "   GL   0.5    0.6   0.7   0.8\n",
       "0   1  0.45  0.708  1.07  1.64\n",
       "1   2  1.34  1.830  2.41  3.22\n",
       "2   3  2.37  2.950  3.67  4.64\n",
       "3   4  3.36  4.040  4.88  5.99\n",
       "4   5  4.35  5.130  6.06  7.29"
      ]
     },
     "execution_count": 34,
     "metadata": {},
     "output_type": "execute_result"
    }
   ],
   "source": [
    "gl1=[0.45, 0.708, 1.07, 1.64]\n",
    "gl2=[1.34, 1.83, 2.41, 3.22]\n",
    "gl3=[2.37, 2.95, 3.67, 4.64]\n",
    "gl4=[3.36, 4.04, 4.88, 5.99]\n",
    "gl5=[4.35, 5.13, 6.06, 7.29]\n",
    "GL = [1,2,3,4,5]\n",
    "GC1 = [0.45] + [1.34] + [2.37] + [3.36] + [4.35]\n",
    "GC2 = [0.708] + [1.83] + [2.95] + [4.04] + [5.13]\n",
    "GC3 = [1.07] + [2.41] + [3.67] + [4.88] + [6.06]\n",
    "GC4 = [1.64] + [3.22] + [4.64] + [5.99] + [7.29]\n",
    "df3 = pd.DataFrame({\"GL\": GL, \"0.5\": GC1, \"0.6\": GC2, \"0.7\": GC3,\"0.8\": GC4})\n",
    "print(\"Grados de Confianza:\")\n",
    "df3"
   ]
  },
  {
   "cell_type": "code",
   "execution_count": 35,
   "id": "3db3e88c",
   "metadata": {},
   "outputs": [
    {
     "name": "stdout",
     "output_type": "stream",
     "text": [
      "Grado de confianza = 0.6\n",
      "Existe el 60% de probabilidad que la distribución sea uniforme...\n"
     ]
    }
   ],
   "source": [
    "if int(v_x) == 1:\n",
    "    if intervalx > 0.45 and intervalx <= 0.57:\n",
    "        print('Grado de confianza = 0.5')\n",
    "        print(\"Existe el 50% de probabilidad que la Distribución sea uniforme...\")\n",
    "    elif intervalx > 0.57 and intervalx <= 0.88:\n",
    "        print('Grado de confianza = 0.6')\n",
    "    elif intervalx > 0.88 and intervalx <= 1.35:\n",
    "        print('Grado de confianza = 0.7')\n",
    "    elif intervalx > 1.35 and intervalx < 1.92:\n",
    "        print('Grado de confianza = 0.8')\n",
    "#GL 2\n",
    "elif int(v_x) == 2:\n",
    "    if intervalx > 1.34 and intervalx <= 1.58:\n",
    "        print('Grado de confianza = 0.5')\n",
    "        print(\"Existe el 50% de probabilidad que la distribución sea uniforme...\")\n",
    "    elif intervalx > 1.58 and intervalx <= 2.1:\n",
    "        print('Grado de confianza = 0.6')\n",
    "        print(\"Existe el 60% de probabilidad que la distribución sea uniforme...\")\n",
    "    elif intervalx > 2.12 and intervalx <= 2.81:\n",
    "        print('Grado de confianza = 0.7')\n",
    "        print(\"Existe el 70% de probabilidad que la distribución sea uniforme...\")\n",
    "    elif intervalx > 2.81 and intervalx < 3.62:\n",
    "        print('Grado de confianza = 0.8')\n",
    "        print(\"Existe el 80% de probabilidad que la distribución sea uniforme...\")\n",
    "#GL 3\n",
    "elif int(v_x) == 3:\n",
    "    if intervalx > 3.37 and intervalx <= 2.66:\n",
    "        print('Grado de confianza = 0.5')\n",
    "        print(\"Existe el 50% de probabilidad que la distribución sea uniforme...\")\n",
    "    elif intervalx > 2.66 and intervalx <= 3.31:   \n",
    "        print('Grado de confianza = 0.6')\n",
    "        print(\"Existe el 60% de probabilidad que la distribución sea uniforme...\")\n",
    "    elif intervalx >3.31 and intervalx <= 4.15:\n",
    "        print('Grado de confianza = 0.7')\n",
    "        print(\"Existe el 70% de probabilidad que la distribución sea uniforme...\")\n",
    "    elif intervalx >4.15 and intervalx <5.12:\n",
    "        print('Grado de confianza = 0.8')\n",
    "        print(\"Existe el 80% de probabilidad que la distribución sea unifome...\")\n",
    "#GL 4\n",
    "elif int(v_x) == 4:\n",
    "    if intervalx >3.36 and intervalx <= 3.7:\n",
    "        print('Grado de confianza = 0.5')\n",
    "        print(\"Existe el 50% de probabilidad que la distribución sea uniforme...\")\n",
    "    elif Qi > 3.7 and intervalx <= 4.46:\n",
    "        print('Grado de confianza = 0.6')\n",
    "        print(\"Existe el 60% de probabilidad que la distribución sea uniforme...\")\n",
    "    elif Qi > 4.46 and intervalx <= 5.43:\n",
    "        print('Grado de confianza = 0.7')\n",
    "        print(\"Existe el 70% de probabilidad que la distribución sea uniforme...\")\n",
    "    elif Qi > 5.43 and intervalx < 6.54:\n",
    "        print('Grado de confianza = 0.8')\n",
    "        print(\"Existe el 80% de probabilidad que la distribución sea uniforme...\")\n",
    "#GL 5\n",
    "elif int(v_x) == 5:\n",
    "    if intervalx > 4.35 and intervalx <= 4.74:\n",
    "        print('Grado de confianza = 0.5')\n",
    "        print(\"Existe el 50% de probabilidad que la distribución sea uniforme...\")\n",
    "    elif intervalx > 4.74 and intervalx <= 5.59:\n",
    "        print('Grado de confianza = 0.6')\n",
    "        print(\"Existe el 60% de probabilidad que la distribución sea uniforme...\")\n",
    "    elif intervalx > 5.59 and intervalx <= 6.67:\n",
    "        print('Grado de confianza = 0.7')\n",
    "        print(\"Existe el 70% de probabilidad que la distribución sea uniforme...\")\n",
    "    elif intervalx > 6.67 and intervalx < 7.90:\n",
    "        print('Grado de confianza = 0.8')\n",
    "        print(\"Existe el 80% de probabilidad que la distribución sea uniforme...\")\n",
    "else:\n",
    " print(\"error\")"
   ]
  }
 ],
 "metadata": {
  "kernelspec": {
   "display_name": "Python 3 (ipykernel)",
   "language": "python",
   "name": "python3"
  },
  "language_info": {
   "codemirror_mode": {
    "name": "ipython",
    "version": 3
   },
   "file_extension": ".py",
   "mimetype": "text/x-python",
   "name": "python",
   "nbconvert_exporter": "python",
   "pygments_lexer": "ipython3",
   "version": "3.10.4"
  }
 },
 "nbformat": 4,
 "nbformat_minor": 5
}
